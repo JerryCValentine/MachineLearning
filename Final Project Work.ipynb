{
 "cells": [
  {
   "cell_type": "code",
   "execution_count": 176,
   "metadata": {},
   "outputs": [],
   "source": [
    "# preparation\n",
    "import tensorflow as tf\n",
    "from tensorflow import keras \n",
    "# Common imports\n",
    "import numpy as np\n",
    "import pandas as pd\n",
    "from copy import deepcopy as copy\n",
    "import matplotlib.pyplot as plt"
   ]
  },
  {
   "cell_type": "code",
   "execution_count": 177,
   "metadata": {},
   "outputs": [
    {
     "data": {
      "text/html": [
       "<div>\n",
       "<style scoped>\n",
       "    .dataframe tbody tr th:only-of-type {\n",
       "        vertical-align: middle;\n",
       "    }\n",
       "\n",
       "    .dataframe tbody tr th {\n",
       "        vertical-align: top;\n",
       "    }\n",
       "\n",
       "    .dataframe thead th {\n",
       "        text-align: right;\n",
       "    }\n",
       "</style>\n",
       "<table border=\"1\" class=\"dataframe\">\n",
       "  <thead>\n",
       "    <tr style=\"text-align: right;\">\n",
       "      <th></th>\n",
       "      <th>Date</th>\n",
       "      <th>Open</th>\n",
       "      <th>High</th>\n",
       "      <th>Low</th>\n",
       "      <th>Close</th>\n",
       "      <th>Adj Close</th>\n",
       "      <th>Volume</th>\n",
       "    </tr>\n",
       "  </thead>\n",
       "  <tbody>\n",
       "    <tr>\n",
       "      <td>0</td>\n",
       "      <td>2009-01-02</td>\n",
       "      <td>22.700001</td>\n",
       "      <td>23.000000</td>\n",
       "      <td>22.520000</td>\n",
       "      <td>22.950001</td>\n",
       "      <td>14.492252</td>\n",
       "      <td>16355800</td>\n",
       "    </tr>\n",
       "    <tr>\n",
       "      <td>1</td>\n",
       "      <td>2009-01-05</td>\n",
       "      <td>22.785000</td>\n",
       "      <td>22.945000</td>\n",
       "      <td>22.590000</td>\n",
       "      <td>22.719999</td>\n",
       "      <td>14.347014</td>\n",
       "      <td>20237200</td>\n",
       "    </tr>\n",
       "    <tr>\n",
       "      <td>2</td>\n",
       "      <td>2009-01-06</td>\n",
       "      <td>22.850000</td>\n",
       "      <td>22.985001</td>\n",
       "      <td>22.230000</td>\n",
       "      <td>22.355000</td>\n",
       "      <td>14.116528</td>\n",
       "      <td>21307800</td>\n",
       "    </tr>\n",
       "    <tr>\n",
       "      <td>3</td>\n",
       "      <td>2009-01-07</td>\n",
       "      <td>22.110001</td>\n",
       "      <td>22.590000</td>\n",
       "      <td>22.110001</td>\n",
       "      <td>22.465000</td>\n",
       "      <td>14.185989</td>\n",
       "      <td>21581000</td>\n",
       "    </tr>\n",
       "    <tr>\n",
       "      <td>4</td>\n",
       "      <td>2009-01-08</td>\n",
       "      <td>22.420000</td>\n",
       "      <td>22.639999</td>\n",
       "      <td>22.280001</td>\n",
       "      <td>22.620001</td>\n",
       "      <td>14.283875</td>\n",
       "      <td>20087000</td>\n",
       "    </tr>\n",
       "    <tr>\n",
       "      <td>...</td>\n",
       "      <td>...</td>\n",
       "      <td>...</td>\n",
       "      <td>...</td>\n",
       "      <td>...</td>\n",
       "      <td>...</td>\n",
       "      <td>...</td>\n",
       "      <td>...</td>\n",
       "    </tr>\n",
       "    <tr>\n",
       "      <td>2763</td>\n",
       "      <td>2019-12-24</td>\n",
       "      <td>54.799999</td>\n",
       "      <td>55.000000</td>\n",
       "      <td>54.639999</td>\n",
       "      <td>54.709999</td>\n",
       "      <td>54.234360</td>\n",
       "      <td>3359300</td>\n",
       "    </tr>\n",
       "    <tr>\n",
       "      <td>2764</td>\n",
       "      <td>2019-12-26</td>\n",
       "      <td>54.919998</td>\n",
       "      <td>55.020000</td>\n",
       "      <td>54.790001</td>\n",
       "      <td>55.020000</td>\n",
       "      <td>54.541668</td>\n",
       "      <td>6228500</td>\n",
       "    </tr>\n",
       "    <tr>\n",
       "      <td>2765</td>\n",
       "      <td>2019-12-27</td>\n",
       "      <td>55.009998</td>\n",
       "      <td>55.450001</td>\n",
       "      <td>55.000000</td>\n",
       "      <td>55.349998</td>\n",
       "      <td>54.868797</td>\n",
       "      <td>6895500</td>\n",
       "    </tr>\n",
       "    <tr>\n",
       "      <td>2766</td>\n",
       "      <td>2019-12-30</td>\n",
       "      <td>55.180000</td>\n",
       "      <td>55.389999</td>\n",
       "      <td>55.060001</td>\n",
       "      <td>55.270000</td>\n",
       "      <td>54.789494</td>\n",
       "      <td>6431700</td>\n",
       "    </tr>\n",
       "    <tr>\n",
       "      <td>2767</td>\n",
       "      <td>2019-12-31</td>\n",
       "      <td>55.200001</td>\n",
       "      <td>55.380001</td>\n",
       "      <td>54.980000</td>\n",
       "      <td>55.349998</td>\n",
       "      <td>54.868797</td>\n",
       "      <td>7982600</td>\n",
       "    </tr>\n",
       "  </tbody>\n",
       "</table>\n",
       "<p>2768 rows × 7 columns</p>\n",
       "</div>"
      ],
      "text/plain": [
       "            Date       Open       High        Low      Close  Adj Close  \\\n",
       "0     2009-01-02  22.700001  23.000000  22.520000  22.950001  14.492252   \n",
       "1     2009-01-05  22.785000  22.945000  22.590000  22.719999  14.347014   \n",
       "2     2009-01-06  22.850000  22.985001  22.230000  22.355000  14.116528   \n",
       "3     2009-01-07  22.110001  22.590000  22.110001  22.465000  14.185989   \n",
       "4     2009-01-08  22.420000  22.639999  22.280001  22.620001  14.283875   \n",
       "...          ...        ...        ...        ...        ...        ...   \n",
       "2763  2019-12-24  54.799999  55.000000  54.639999  54.709999  54.234360   \n",
       "2764  2019-12-26  54.919998  55.020000  54.790001  55.020000  54.541668   \n",
       "2765  2019-12-27  55.009998  55.450001  55.000000  55.349998  54.868797   \n",
       "2766  2019-12-30  55.180000  55.389999  55.060001  55.270000  54.789494   \n",
       "2767  2019-12-31  55.200001  55.380001  54.980000  55.349998  54.868797   \n",
       "\n",
       "        Volume  \n",
       "0     16355800  \n",
       "1     20237200  \n",
       "2     21307800  \n",
       "3     21581000  \n",
       "4     20087000  \n",
       "...        ...  \n",
       "2763   3359300  \n",
       "2764   6228500  \n",
       "2765   6895500  \n",
       "2766   6431700  \n",
       "2767   7982600  \n",
       "\n",
       "[2768 rows x 7 columns]"
      ]
     },
     "execution_count": 177,
     "metadata": {},
     "output_type": "execute_result"
    }
   ],
   "source": [
    "stockdata = pd.read_csv('KO.csv')\n",
    "stockdata"
   ]
  },
  {
   "cell_type": "code",
   "execution_count": 178,
   "metadata": {},
   "outputs": [
    {
     "data": {
      "text/plain": [
       "Date           int32\n",
       "Open         float64\n",
       "High         float64\n",
       "Low          float64\n",
       "Adj Close    float64\n",
       "Volume         int64\n",
       "dtype: object"
      ]
     },
     "execution_count": 178,
     "metadata": {},
     "output_type": "execute_result"
    }
   ],
   "source": [
    "T = stockdata.iloc[:, 4:5].copy()\n",
    "X = stockdata.iloc[:,0:4].copy()\n",
    "X = pd.concat([X,stockdata.iloc[:,5:].copy()],axis=1)\n",
    "\n",
    "X[\"Date\"] = pd.to_datetime(X[\"Date\"]).dt.strftime(\"%Y%m%d\").astype(int)\n",
    "X.dtypes"
   ]
  },
  {
   "cell_type": "code",
   "execution_count": 179,
   "metadata": {},
   "outputs": [
    {
     "data": {
      "text/html": [
       "<div>\n",
       "<style scoped>\n",
       "    .dataframe tbody tr th:only-of-type {\n",
       "        vertical-align: middle;\n",
       "    }\n",
       "\n",
       "    .dataframe tbody tr th {\n",
       "        vertical-align: top;\n",
       "    }\n",
       "\n",
       "    .dataframe thead th {\n",
       "        text-align: right;\n",
       "    }\n",
       "</style>\n",
       "<table border=\"1\" class=\"dataframe\">\n",
       "  <thead>\n",
       "    <tr style=\"text-align: right;\">\n",
       "      <th></th>\n",
       "      <th>Date</th>\n",
       "      <th>Open</th>\n",
       "      <th>High</th>\n",
       "      <th>Low</th>\n",
       "      <th>Adj Close</th>\n",
       "      <th>Volume</th>\n",
       "    </tr>\n",
       "  </thead>\n",
       "  <tbody>\n",
       "    <tr>\n",
       "      <td>0</td>\n",
       "      <td>20090102</td>\n",
       "      <td>22.700001</td>\n",
       "      <td>23.000000</td>\n",
       "      <td>22.520000</td>\n",
       "      <td>14.492252</td>\n",
       "      <td>16355800</td>\n",
       "    </tr>\n",
       "    <tr>\n",
       "      <td>1</td>\n",
       "      <td>20090105</td>\n",
       "      <td>22.785000</td>\n",
       "      <td>22.945000</td>\n",
       "      <td>22.590000</td>\n",
       "      <td>14.347014</td>\n",
       "      <td>20237200</td>\n",
       "    </tr>\n",
       "    <tr>\n",
       "      <td>2</td>\n",
       "      <td>20090106</td>\n",
       "      <td>22.850000</td>\n",
       "      <td>22.985001</td>\n",
       "      <td>22.230000</td>\n",
       "      <td>14.116528</td>\n",
       "      <td>21307800</td>\n",
       "    </tr>\n",
       "    <tr>\n",
       "      <td>3</td>\n",
       "      <td>20090107</td>\n",
       "      <td>22.110001</td>\n",
       "      <td>22.590000</td>\n",
       "      <td>22.110001</td>\n",
       "      <td>14.185989</td>\n",
       "      <td>21581000</td>\n",
       "    </tr>\n",
       "    <tr>\n",
       "      <td>4</td>\n",
       "      <td>20090108</td>\n",
       "      <td>22.420000</td>\n",
       "      <td>22.639999</td>\n",
       "      <td>22.280001</td>\n",
       "      <td>14.283875</td>\n",
       "      <td>20087000</td>\n",
       "    </tr>\n",
       "    <tr>\n",
       "      <td>...</td>\n",
       "      <td>...</td>\n",
       "      <td>...</td>\n",
       "      <td>...</td>\n",
       "      <td>...</td>\n",
       "      <td>...</td>\n",
       "      <td>...</td>\n",
       "    </tr>\n",
       "    <tr>\n",
       "      <td>2763</td>\n",
       "      <td>20191224</td>\n",
       "      <td>54.799999</td>\n",
       "      <td>55.000000</td>\n",
       "      <td>54.639999</td>\n",
       "      <td>54.234360</td>\n",
       "      <td>3359300</td>\n",
       "    </tr>\n",
       "    <tr>\n",
       "      <td>2764</td>\n",
       "      <td>20191226</td>\n",
       "      <td>54.919998</td>\n",
       "      <td>55.020000</td>\n",
       "      <td>54.790001</td>\n",
       "      <td>54.541668</td>\n",
       "      <td>6228500</td>\n",
       "    </tr>\n",
       "    <tr>\n",
       "      <td>2765</td>\n",
       "      <td>20191227</td>\n",
       "      <td>55.009998</td>\n",
       "      <td>55.450001</td>\n",
       "      <td>55.000000</td>\n",
       "      <td>54.868797</td>\n",
       "      <td>6895500</td>\n",
       "    </tr>\n",
       "    <tr>\n",
       "      <td>2766</td>\n",
       "      <td>20191230</td>\n",
       "      <td>55.180000</td>\n",
       "      <td>55.389999</td>\n",
       "      <td>55.060001</td>\n",
       "      <td>54.789494</td>\n",
       "      <td>6431700</td>\n",
       "    </tr>\n",
       "    <tr>\n",
       "      <td>2767</td>\n",
       "      <td>20191231</td>\n",
       "      <td>55.200001</td>\n",
       "      <td>55.380001</td>\n",
       "      <td>54.980000</td>\n",
       "      <td>54.868797</td>\n",
       "      <td>7982600</td>\n",
       "    </tr>\n",
       "  </tbody>\n",
       "</table>\n",
       "<p>2768 rows × 6 columns</p>\n",
       "</div>"
      ],
      "text/plain": [
       "          Date       Open       High        Low  Adj Close    Volume\n",
       "0     20090102  22.700001  23.000000  22.520000  14.492252  16355800\n",
       "1     20090105  22.785000  22.945000  22.590000  14.347014  20237200\n",
       "2     20090106  22.850000  22.985001  22.230000  14.116528  21307800\n",
       "3     20090107  22.110001  22.590000  22.110001  14.185989  21581000\n",
       "4     20090108  22.420000  22.639999  22.280001  14.283875  20087000\n",
       "...        ...        ...        ...        ...        ...       ...\n",
       "2763  20191224  54.799999  55.000000  54.639999  54.234360   3359300\n",
       "2764  20191226  54.919998  55.020000  54.790001  54.541668   6228500\n",
       "2765  20191227  55.009998  55.450001  55.000000  54.868797   6895500\n",
       "2766  20191230  55.180000  55.389999  55.060001  54.789494   6431700\n",
       "2767  20191231  55.200001  55.380001  54.980000  54.868797   7982600\n",
       "\n",
       "[2768 rows x 6 columns]"
      ]
     },
     "execution_count": 179,
     "metadata": {},
     "output_type": "execute_result"
    }
   ],
   "source": [
    "X"
   ]
  },
  {
   "cell_type": "code",
   "execution_count": 151,
   "metadata": {},
   "outputs": [],
   "source": [
    "D = pd.concat([X, T], axis=1)"
   ]
  },
  {
   "cell_type": "code",
   "execution_count": 152,
   "metadata": {},
   "outputs": [],
   "source": [
    "#def temp_scatter(D):\n",
    "    #fig, axes = plt.subplots(3,2)\n",
    "    #fig.set_figheight(12)\n",
    "   # fig.set_figwidth(16)\n",
    "   # for i,c  in enumerate(X.columns.values):\n",
    "  #      D.plot.scatter('Close',c , ax=axes[int(i/2), i%5])\n",
    " #   fig.tight_layout()\n",
    "    \n",
    "#temp_scatter(D)"
   ]
  },
  {
   "cell_type": "code",
   "execution_count": 175,
   "metadata": {},
   "outputs": [
    {
     "data": {
      "text/plain": [
       "array([[2.0090102e+07, 2.2700001e+01, 2.3000000e+01, 2.2520000e+01,\n",
       "        1.6355800e+07],\n",
       "       [2.0090105e+07, 2.2785000e+01, 2.2945000e+01, 2.2590000e+01,\n",
       "        2.0237200e+07],\n",
       "       [2.0090106e+07, 2.2850000e+01, 2.2985001e+01, 2.2230000e+01,\n",
       "        2.1307800e+07],\n",
       "       ...,\n",
       "       [2.0191227e+07, 5.5009998e+01, 5.5450001e+01, 5.5000000e+01,\n",
       "        6.8955000e+06],\n",
       "       [2.0191230e+07, 5.5180000e+01, 5.5389999e+01, 5.5060001e+01,\n",
       "        6.4317000e+06],\n",
       "       [2.0191231e+07, 5.5200001e+01, 5.5380001e+01, 5.4980000e+01,\n",
       "        7.9826000e+06]])"
      ]
     },
     "execution_count": 175,
     "metadata": {},
     "output_type": "execute_result"
    }
   ],
   "source": []
  },
  {
   "cell_type": "code",
   "execution_count": 153,
   "metadata": {},
   "outputs": [
    {
     "data": {
      "text/plain": [
       "Text(0.5, 0, 'Close')"
      ]
     },
     "execution_count": 153,
     "metadata": {},
     "output_type": "execute_result"
    },
    {
     "data": {
      "image/png": "[encoded data removed]",
      "text/plain": [
       "<Figure size 432x288 with 1 Axes>"
      ]
     },
     "metadata": {
      "needs_background": "light"
     },
     "output_type": "display_data"
    }
   ],
   "source": [
    "\n",
    "\n",
    "plt.scatter(T,X.iloc[:,0:1])\n",
    "plt.ylabel(\"Date\")\n",
    "plt.xlabel(\"Close\")"
   ]
  },
  {
   "cell_type": "code",
   "execution_count": 154,
   "metadata": {},
   "outputs": [
    {
     "data": {
      "text/plain": [
       "Text(0.5, 0, 'Close')"
      ]
     },
     "execution_count": 154,
     "metadata": {},
     "output_type": "execute_result"
    },
    {
     "data": {
      "image/png": "[encoded data removed]",
      "text/plain": [
       "<Figure size 432x288 with 1 Axes>"
      ]
     },
     "metadata": {
      "needs_background": "light"
     },
     "output_type": "display_data"
    }
   ],
   "source": [
    "plt.scatter(T,X.iloc[:,1:2])\n",
    "plt.ylabel(\"Open\")\n",
    "plt.xlabel(\"Close\")"
   ]
  },
  {
   "cell_type": "code",
   "execution_count": 155,
   "metadata": {},
   "outputs": [
    {
     "data": {
      "text/plain": [
       "Text(0.5, 0, 'Close')"
      ]
     },
     "execution_count": 155,
     "metadata": {},
     "output_type": "execute_result"
    },
    {
     "data": {
      "image/png": "[encoded data removed]",
      "text/plain": [
       "<Figure size 432x288 with 1 Axes>"
      ]
     },
     "metadata": {
      "needs_background": "light"
     },
     "output_type": "display_data"
    }
   ],
   "source": [
    "plt.scatter(T,X.iloc[:,2:3])\n",
    "plt.ylabel(\"High\")\n",
    "plt.xlabel(\"Close\")"
   ]
  },
  {
   "cell_type": "code",
   "execution_count": 156,
   "metadata": {},
   "outputs": [
    {
     "data": {
      "text/plain": [
       "Text(0.5, 0, 'Close')"
      ]
     },
     "execution_count": 156,
     "metadata": {},
     "output_type": "execute_result"
    },
    {
     "data": {
      "image/png": "[encoded data removed]",
      "text/plain": [
       "<Figure size 432x288 with 1 Axes>"
      ]
     },
     "metadata": {
      "needs_background": "light"
     },
     "output_type": "display_data"
    }
   ],
   "source": [
    "plt.scatter(T,X.iloc[:,3:4])\n",
    "plt.ylabel(\"Low\")\n",
    "plt.xlabel(\"Close\")"
   ]
  },
  {
   "cell_type": "code",
   "execution_count": 157,
   "metadata": {},
   "outputs": [
    {
     "data": {
      "text/plain": [
       "Text(0.5, 0, 'Close')"
      ]
     },
     "execution_count": 157,
     "metadata": {},
     "output_type": "execute_result"
    },
    {
     "data": {
      "image/png": "[encoded data removed]",
      "text/plain": [
       "<Figure size 432x288 with 1 Axes>"
      ]
     },
     "metadata": {
      "needs_background": "light"
     },
     "output_type": "display_data"
    }
   ],
   "source": [
    "plt.scatter(T,X.iloc[:,4:5])\n",
    "plt.ylabel(\"Adj Close\")\n",
    "plt.xlabel(\"Close\")"
   ]
  },
  {
   "cell_type": "code",
   "execution_count": 158,
   "metadata": {
    "scrolled": true
   },
   "outputs": [
    {
     "data": {
      "text/plain": [
       "Text(0.5, 0, 'Close')"
      ]
     },
     "execution_count": 158,
     "metadata": {},
     "output_type": "execute_result"
    },
    {
     "data": {
      "image/png": "[encoded data removed]",
      "text/plain": [
       "<Figure size 432x288 with 1 Axes>"
      ]
     },
     "metadata": {
      "needs_background": "light"
     },
     "output_type": "display_data"
    }
   ],
   "source": [
    "plt.scatter(T,X.iloc[:,5:6])\n",
    "plt.ylabel(\"Volume\")\n",
    "plt.xlabel(\"Close\")"
   ]
  },
  {
   "cell_type": "code",
   "execution_count": 159,
   "metadata": {},
   "outputs": [
    {
     "data": {
      "text/plain": [
       "Text(0.5, 0, 'Date')"
      ]
     },
     "execution_count": 159,
     "metadata": {},
     "output_type": "execute_result"
    },
    {
     "data": {
      "image/png": "[encoded data removed]",
      "text/plain": [
       "<Figure size 432x288 with 1 Axes>"
      ]
     },
     "metadata": {
      "needs_background": "light"
     },
     "output_type": "display_data"
    }
   ],
   "source": [
    "plt.scatter(X.iloc[:,0:1],X.iloc[:,5:6])\n",
    "plt.ylabel(\"Volume\")\n",
    "plt.xlabel(\"Date\")"
   ]
  },
  {
   "cell_type": "code",
   "execution_count": 160,
   "metadata": {},
   "outputs": [],
   "source": [
    "X = X.drop([\"Adj Close\"],axis=1)"
   ]
  },
  {
   "cell_type": "code",
   "execution_count": 161,
   "metadata": {},
   "outputs": [],
   "source": [
    "T = T.values"
   ]
  },
  {
   "cell_type": "code",
   "execution_count": 162,
   "metadata": {},
   "outputs": [
    {
     "data": {
      "text/plain": [
       "array([[22.950001],\n",
       "       [22.719999],\n",
       "       [22.355   ],\n",
       "       ...,\n",
       "       [55.349998],\n",
       "       [55.27    ],\n",
       "       [55.349998]])"
      ]
     },
     "execution_count": 162,
     "metadata": {},
     "output_type": "execute_result"
    }
   ],
   "source": [
    "T"
   ]
  },
  {
   "cell_type": "code",
   "execution_count": 163,
   "metadata": {},
   "outputs": [],
   "source": [
    "X = X.values"
   ]
  },
  {
   "cell_type": "code",
   "execution_count": 164,
   "metadata": {},
   "outputs": [],
   "source": [
    "def standardize(X, mean, std):\n",
    "    return (X-mean) / std"
   ]
  },
  {
   "cell_type": "code",
   "execution_count": 165,
   "metadata": {},
   "outputs": [],
   "source": [
    "mean = np.mean(X, axis=0)\n",
    "std = np.std(X, axis=0)\n",
    "\n",
    "XS = standardize(X, mean, std)"
   ]
  },
  {
   "cell_type": "code",
   "execution_count": 166,
   "metadata": {},
   "outputs": [],
   "source": [
    "import partitionlib as ptl"
   ]
  },
  {
   "cell_type": "code",
   "execution_count": 167,
   "metadata": {},
   "outputs": [
    {
     "name": "stdout",
     "output_type": "stream",
     "text": [
      "Train data shape: (2214, 5)\n",
      "Train target shape: (2214, 1)\n",
      "Test data shape: (554, 5)\n",
      "Test target shape: (554, 1)\n"
     ]
    }
   ],
   "source": [
    "def partition_data(X, T):\n",
    "    \"\"\"Partition data into train and test splits.\"\"\"\n",
    "    data, targets = ptl.partition(copy(X), copy(T))\n",
    "    Xtrain, Xtest = data\n",
    "    Ttrain, Ttest = targets\n",
    "    \n",
    "    return Xtrain, Xtest, Ttrain, Ttest\n",
    "\n",
    "Xtrain, Xtest, Ttrain, Ttest = partition_data(XS, T)\n",
    "print(\"Train data shape: {}\".format(Xtrain.shape))\n",
    "print(\"Train target shape: {}\".format(Ttrain.shape))\n",
    "print(\"Test data shape: {}\".format(Xtest.shape))\n",
    "print(\"Test target shape: {}\".format(Ttest.shape))"
   ]
  },
  {
   "cell_type": "code",
   "execution_count": 168,
   "metadata": {},
   "outputs": [],
   "source": [
    "model = keras.Sequential([\n",
    "    keras.layers.Dense(10),\n",
    "    keras.layers.Dense(10),\n",
    "    keras.layers.Dense(10),\n",
    "    keras.layers.Dense(10),\n",
    "    keras.layers.Dense(1)\n",
    "])"
   ]
  },
  {
   "cell_type": "code",
   "execution_count": 169,
   "metadata": {},
   "outputs": [],
   "source": [
    "model.compile(loss=\"mse\", optimizer=tf.keras.optimizers.SGD(lr=0.001))"
   ]
  },
  {
   "cell_type": "code",
   "execution_count": 170,
   "metadata": {
    "scrolled": true
   },
   "outputs": [
    {
     "name": "stdout",
     "output_type": "stream",
     "text": [
      "Train on 2214 samples\n",
      "Epoch 1/30\n",
      "2214/2214 [==============================] - 0s 107us/sample - loss: 295.3508\n",
      "Epoch 2/30\n",
      "2214/2214 [==============================] - 0s 31us/sample - loss: 5.6235\n",
      "Epoch 3/30\n",
      "2214/2214 [==============================] - 0s 29us/sample - loss: 0.8274\n",
      "Epoch 4/30\n",
      "2214/2214 [==============================] - 0s 29us/sample - loss: 0.1973\n",
      "Epoch 5/30\n",
      "2214/2214 [==============================] - 0s 32us/sample - loss: 0.1025\n",
      "Epoch 6/30\n",
      "2214/2214 [==============================] - 0s 29us/sample - loss: 0.0924\n",
      "Epoch 7/30\n",
      "2214/2214 [==============================] - 0s 29us/sample - loss: 0.0740\n",
      "Epoch 8/30\n",
      "2214/2214 [==============================] - 0s 30us/sample - loss: 0.1588\n",
      "Epoch 9/30\n",
      "2214/2214 [==============================] - 0s 28us/sample - loss: 0.0684\n",
      "Epoch 10/30\n",
      "2214/2214 [==============================] - 0s 32us/sample - loss: 0.2342\n",
      "Epoch 11/30\n",
      "2214/2214 [==============================] - 0s 25us/sample - loss: 0.3526\n",
      "Epoch 12/30\n",
      "2214/2214 [==============================] - 0s 28us/sample - loss: 0.1721\n",
      "Epoch 13/30\n",
      "2214/2214 [==============================] - 0s 28us/sample - loss: 0.2380\n",
      "Epoch 14/30\n",
      "2214/2214 [==============================] - 0s 26us/sample - loss: 0.1860\n",
      "Epoch 15/30\n",
      "2214/2214 [==============================] - 0s 26us/sample - loss: 0.0928\n",
      "Epoch 16/30\n",
      "2214/2214 [==============================] - 0s 30us/sample - loss: 0.0961\n",
      "Epoch 17/30\n",
      "2214/2214 [==============================] - 0s 28us/sample - loss: 0.0643\n",
      "Epoch 18/30\n",
      "2214/2214 [==============================] - 0s 26us/sample - loss: 0.0964\n",
      "Epoch 19/30\n",
      "2214/2214 [==============================] - 0s 27us/sample - loss: 0.2443\n",
      "Epoch 20/30\n",
      "2214/2214 [==============================] - 0s 27us/sample - loss: 0.2499\n",
      "Epoch 21/30\n",
      "2214/2214 [==============================] - 0s 26us/sample - loss: 0.1164\n",
      "Epoch 22/30\n",
      "2214/2214 [==============================] - 0s 27us/sample - loss: 0.0707\n",
      "Epoch 23/30\n",
      "2214/2214 [==============================] - 0s 27us/sample - loss: 0.3544\n",
      "Epoch 24/30\n",
      "2214/2214 [==============================] - 0s 25us/sample - loss: 0.1287\n",
      "Epoch 25/30\n",
      "2214/2214 [==============================] - 0s 26us/sample - loss: 0.0763\n",
      "Epoch 26/30\n",
      "2214/2214 [==============================] - 0s 25us/sample - loss: 0.0592\n",
      "Epoch 27/30\n",
      "2214/2214 [==============================] - 0s 28us/sample - loss: 0.0566\n",
      "Epoch 28/30\n",
      "2214/2214 [==============================] - 0s 27us/sample - loss: 0.0715\n",
      "Epoch 29/30\n",
      "2214/2214 [==============================] - 0s 26us/sample - loss: 0.1679\n",
      "Epoch 30/30\n",
      "2214/2214 [==============================] - 0s 25us/sample - loss: 0.0717\n"
     ]
    }
   ],
   "source": [
    "history = model.fit(Xtrain, Ttrain, epochs=30)"
   ]
  },
  {
   "cell_type": "code",
   "execution_count": 171,
   "metadata": {},
   "outputs": [
    {
     "name": "stdout",
     "output_type": "stream",
     "text": [
      "554/554 [==============================] - 0s 90us/sample - loss: 0.3181\n"
     ]
    },
    {
     "data": {
      "text/plain": [
       "0.31814810181782993"
      ]
     },
     "execution_count": 171,
     "metadata": {},
     "output_type": "execute_result"
    }
   ],
   "source": [
    "error = model.evaluate(Xtest, Ttest)\n",
    "error"
   ]
  },
  {
   "cell_type": "code",
   "execution_count": 172,
   "metadata": {},
   "outputs": [
    {
     "data": {
      "text/plain": [
       "array([[40.010162],\n",
       "       [44.501877],\n",
       "       [44.09568 ],\n",
       "       [23.919619],\n",
       "       [41.651844],\n",
       "       [36.488728],\n",
       "       [41.570972],\n",
       "       [20.458525],\n",
       "       [26.717922],\n",
       "       [34.84141 ],\n",
       "       [54.265614],\n",
       "       [42.36938 ],\n",
       "       [45.13458 ],\n",
       "       [24.696041],\n",
       "       [43.339138],\n",
       "       [29.952671],\n",
       "       [33.17268 ],\n",
       "       [38.45112 ],\n",
       "       [46.735744],\n",
       "       [48.929157],\n",
       "       [44.30675 ],\n",
       "       [40.438564],\n",
       "       [45.098145],\n",
       "       [24.600035],\n",
       "       [39.18082 ],\n",
       "       [41.42922 ],\n",
       "       [39.08183 ],\n",
       "       [48.41494 ],\n",
       "       [45.505795],\n",
       "       [34.213478],\n",
       "       [39.872356],\n",
       "       [43.183315],\n",
       "       [38.127228],\n",
       "       [45.448   ],\n",
       "       [33.779728],\n",
       "       [44.64478 ],\n",
       "       [26.552423],\n",
       "       [31.449469],\n",
       "       [26.22134 ],\n",
       "       [24.56399 ],\n",
       "       [42.81709 ],\n",
       "       [39.713253],\n",
       "       [44.741867],\n",
       "       [48.63096 ],\n",
       "       [53.15996 ],\n",
       "       [40.29265 ],\n",
       "       [27.403036],\n",
       "       [44.211243],\n",
       "       [37.690014],\n",
       "       [48.666477],\n",
       "       [41.975197],\n",
       "       [39.889137],\n",
       "       [33.50453 ],\n",
       "       [40.6335  ],\n",
       "       [26.66464 ],\n",
       "       [43.76535 ],\n",
       "       [41.361183],\n",
       "       [45.104225],\n",
       "       [37.713287],\n",
       "       [44.355156],\n",
       "       [38.361027],\n",
       "       [37.703117],\n",
       "       [38.310337],\n",
       "       [53.277134],\n",
       "       [48.21729 ],\n",
       "       [34.19315 ],\n",
       "       [40.441013],\n",
       "       [33.76126 ],\n",
       "       [26.98727 ],\n",
       "       [33.731205],\n",
       "       [36.678654],\n",
       "       [39.635   ],\n",
       "       [45.26263 ],\n",
       "       [40.774223],\n",
       "       [36.963066],\n",
       "       [39.45598 ],\n",
       "       [50.885174],\n",
       "       [34.718582],\n",
       "       [25.54793 ],\n",
       "       [30.997782],\n",
       "       [45.43738 ],\n",
       "       [36.630135],\n",
       "       [42.006767],\n",
       "       [34.19771 ],\n",
       "       [36.97073 ],\n",
       "       [24.314354],\n",
       "       [23.865019],\n",
       "       [41.00113 ],\n",
       "       [51.31645 ],\n",
       "       [41.801193],\n",
       "       [43.91073 ],\n",
       "       [42.24432 ],\n",
       "       [41.08184 ],\n",
       "       [26.541075],\n",
       "       [42.12663 ],\n",
       "       [21.36115 ],\n",
       "       [39.574055],\n",
       "       [37.55839 ],\n",
       "       [37.931194],\n",
       "       [40.680004],\n",
       "       [48.873142],\n",
       "       [33.81669 ],\n",
       "       [34.11617 ],\n",
       "       [41.805874],\n",
       "       [40.243572],\n",
       "       [37.880417],\n",
       "       [32.723946],\n",
       "       [43.92894 ],\n",
       "       [41.288464],\n",
       "       [53.271515],\n",
       "       [41.409973],\n",
       "       [42.064274],\n",
       "       [40.336926],\n",
       "       [44.743176],\n",
       "       [31.034979],\n",
       "       [44.822826],\n",
       "       [43.234108],\n",
       "       [41.03693 ],\n",
       "       [28.496885],\n",
       "       [38.060535],\n",
       "       [45.334072],\n",
       "       [45.933422],\n",
       "       [34.28222 ],\n",
       "       [45.703735],\n",
       "       [39.76122 ],\n",
       "       [41.69213 ],\n",
       "       [41.715508],\n",
       "       [40.440727],\n",
       "       [45.433598],\n",
       "       [51.758827],\n",
       "       [33.604763],\n",
       "       [40.412846],\n",
       "       [33.10017 ],\n",
       "       [44.004597],\n",
       "       [28.66984 ],\n",
       "       [37.638237],\n",
       "       [40.438644],\n",
       "       [42.166504],\n",
       "       [44.149563],\n",
       "       [32.93149 ],\n",
       "       [37.95602 ],\n",
       "       [45.024788],\n",
       "       [24.154224],\n",
       "       [40.743378],\n",
       "       [32.99767 ],\n",
       "       [26.308987],\n",
       "       [32.261826],\n",
       "       [33.510273],\n",
       "       [42.917423],\n",
       "       [32.499256],\n",
       "       [39.669987],\n",
       "       [27.864439],\n",
       "       [40.05206 ],\n",
       "       [28.00368 ],\n",
       "       [54.32134 ],\n",
       "       [44.152058],\n",
       "       [53.09688 ],\n",
       "       [36.265545],\n",
       "       [40.0578  ],\n",
       "       [48.044495],\n",
       "       [42.05029 ],\n",
       "       [28.449333],\n",
       "       [32.519226],\n",
       "       [27.523067],\n",
       "       [41.73596 ],\n",
       "       [38.177116],\n",
       "       [40.093697],\n",
       "       [38.294582],\n",
       "       [38.6454  ],\n",
       "       [39.080906],\n",
       "       [40.5113  ],\n",
       "       [22.51817 ],\n",
       "       [33.211178],\n",
       "       [46.778896],\n",
       "       [48.552513],\n",
       "       [43.009315],\n",
       "       [27.561974],\n",
       "       [47.087337],\n",
       "       [38.15528 ],\n",
       "       [40.401997],\n",
       "       [33.51119 ],\n",
       "       [40.341213],\n",
       "       [29.402338],\n",
       "       [22.570581],\n",
       "       [38.2407  ],\n",
       "       [38.39593 ],\n",
       "       [40.614044],\n",
       "       [42.99163 ],\n",
       "       [41.387527],\n",
       "       [36.928337],\n",
       "       [41.26874 ],\n",
       "       [43.93678 ],\n",
       "       [44.22975 ],\n",
       "       [31.101408],\n",
       "       [42.657784],\n",
       "       [44.50184 ],\n",
       "       [40.328823],\n",
       "       [41.54595 ],\n",
       "       [40.50819 ],\n",
       "       [28.153442],\n",
       "       [41.39219 ],\n",
       "       [29.76433 ],\n",
       "       [42.163597],\n",
       "       [21.03715 ],\n",
       "       [46.55515 ],\n",
       "       [42.42442 ],\n",
       "       [40.10317 ],\n",
       "       [42.457447],\n",
       "       [38.612225],\n",
       "       [30.53425 ],\n",
       "       [42.420956],\n",
       "       [41.50221 ],\n",
       "       [40.605263],\n",
       "       [41.596954],\n",
       "       [48.535347],\n",
       "       [42.28511 ],\n",
       "       [38.066425],\n",
       "       [41.2254  ],\n",
       "       [40.53698 ],\n",
       "       [33.306175],\n",
       "       [41.16383 ],\n",
       "       [40.57994 ],\n",
       "       [47.294   ],\n",
       "       [35.835224],\n",
       "       [41.47507 ],\n",
       "       [29.548923],\n",
       "       [41.07958 ],\n",
       "       [33.62507 ],\n",
       "       [45.38796 ],\n",
       "       [36.59644 ],\n",
       "       [26.518885],\n",
       "       [33.678795],\n",
       "       [48.573162],\n",
       "       [33.266064],\n",
       "       [42.256462],\n",
       "       [50.95963 ],\n",
       "       [33.465923],\n",
       "       [41.292618],\n",
       "       [25.130674],\n",
       "       [38.056633],\n",
       "       [37.162777],\n",
       "       [41.667667],\n",
       "       [25.65103 ],\n",
       "       [45.613243],\n",
       "       [52.26315 ],\n",
       "       [41.59416 ],\n",
       "       [34.531868],\n",
       "       [43.24627 ],\n",
       "       [32.372574],\n",
       "       [42.183453],\n",
       "       [46.01528 ],\n",
       "       [38.790806],\n",
       "       [47.171543],\n",
       "       [36.135635],\n",
       "       [32.258305],\n",
       "       [41.187084],\n",
       "       [24.735779],\n",
       "       [33.010387],\n",
       "       [32.053474],\n",
       "       [50.749676],\n",
       "       [37.24638 ],\n",
       "       [22.34609 ],\n",
       "       [46.755394],\n",
       "       [54.325275],\n",
       "       [45.923595],\n",
       "       [33.86896 ],\n",
       "       [31.196749],\n",
       "       [32.185394],\n",
       "       [38.950436],\n",
       "       [43.122025],\n",
       "       [34.085003],\n",
       "       [43.2974  ],\n",
       "       [41.516136],\n",
       "       [21.34955 ],\n",
       "       [40.14507 ],\n",
       "       [28.164625],\n",
       "       [48.82331 ],\n",
       "       [38.367344],\n",
       "       [37.268322],\n",
       "       [31.398676],\n",
       "       [38.712727],\n",
       "       [26.55883 ],\n",
       "       [21.279066],\n",
       "       [41.58867 ],\n",
       "       [44.52739 ],\n",
       "       [27.52252 ],\n",
       "       [39.012314],\n",
       "       [40.669415],\n",
       "       [48.11407 ],\n",
       "       [31.929407],\n",
       "       [53.48026 ],\n",
       "       [41.48654 ],\n",
       "       [39.592304],\n",
       "       [31.749504],\n",
       "       [24.759119],\n",
       "       [40.199665],\n",
       "       [45.7405  ],\n",
       "       [40.40479 ],\n",
       "       [31.446299],\n",
       "       [42.399204],\n",
       "       [39.835476],\n",
       "       [27.101757],\n",
       "       [41.63384 ],\n",
       "       [38.31241 ],\n",
       "       [40.12162 ],\n",
       "       [42.011444],\n",
       "       [45.160603],\n",
       "       [34.805878],\n",
       "       [26.47634 ],\n",
       "       [38.022335],\n",
       "       [40.25701 ],\n",
       "       [40.762157],\n",
       "       [45.279377],\n",
       "       [36.322475],\n",
       "       [45.20344 ],\n",
       "       [39.824535],\n",
       "       [33.223812],\n",
       "       [24.56168 ],\n",
       "       [52.67226 ],\n",
       "       [33.486305],\n",
       "       [43.191288],\n",
       "       [42.795918],\n",
       "       [32.46067 ],\n",
       "       [44.16986 ],\n",
       "       [21.460613],\n",
       "       [23.106018],\n",
       "       [39.854145],\n",
       "       [19.71833 ],\n",
       "       [46.024605],\n",
       "       [39.03719 ],\n",
       "       [35.223278],\n",
       "       [36.71464 ],\n",
       "       [43.223934],\n",
       "       [29.770132],\n",
       "       [27.571077],\n",
       "       [40.98504 ],\n",
       "       [28.17864 ],\n",
       "       [41.27754 ],\n",
       "       [27.018074],\n",
       "       [20.952482],\n",
       "       [38.15645 ],\n",
       "       [33.550106],\n",
       "       [27.18675 ],\n",
       "       [38.236553],\n",
       "       [40.439312],\n",
       "       [32.31821 ],\n",
       "       [50.179527],\n",
       "       [48.48424 ],\n",
       "       [36.908245],\n",
       "       [27.214336],\n",
       "       [41.55951 ],\n",
       "       [39.655727],\n",
       "       [32.84606 ],\n",
       "       [41.743507],\n",
       "       [42.322502],\n",
       "       [45.99306 ],\n",
       "       [41.14295 ],\n",
       "       [45.66167 ],\n",
       "       [39.55581 ],\n",
       "       [45.520874],\n",
       "       [25.882284],\n",
       "       [45.36763 ],\n",
       "       [37.689037],\n",
       "       [42.538174],\n",
       "       [44.632423],\n",
       "       [41.596188],\n",
       "       [45.39203 ],\n",
       "       [52.704067],\n",
       "       [40.994328],\n",
       "       [27.48068 ],\n",
       "       [41.67848 ],\n",
       "       [45.206257],\n",
       "       [51.25836 ],\n",
       "       [37.38417 ],\n",
       "       [24.154287],\n",
       "       [44.095276],\n",
       "       [25.352541],\n",
       "       [42.111523],\n",
       "       [45.48833 ],\n",
       "       [24.677795],\n",
       "       [39.319912],\n",
       "       [42.653824],\n",
       "       [40.088932],\n",
       "       [38.10288 ],\n",
       "       [39.021626],\n",
       "       [40.48082 ],\n",
       "       [25.10327 ],\n",
       "       [27.196394],\n",
       "       [43.99161 ],\n",
       "       [36.961826],\n",
       "       [40.54582 ],\n",
       "       [42.959034],\n",
       "       [27.119493],\n",
       "       [45.118427],\n",
       "       [37.03279 ],\n",
       "       [37.49959 ],\n",
       "       [45.307636],\n",
       "       [41.87636 ],\n",
       "       [26.66982 ],\n",
       "       [52.636246],\n",
       "       [50.960693],\n",
       "       [19.766317],\n",
       "       [44.875504],\n",
       "       [34.75017 ],\n",
       "       [45.35276 ],\n",
       "       [41.768253],\n",
       "       [44.606277],\n",
       "       [36.373856],\n",
       "       [52.831505],\n",
       "       [41.153893],\n",
       "       [42.355236],\n",
       "       [39.02833 ],\n",
       "       [43.56636 ],\n",
       "       [40.889965],\n",
       "       [37.478195],\n",
       "       [26.35999 ],\n",
       "       [32.910248],\n",
       "       [41.03465 ],\n",
       "       [31.3785  ],\n",
       "       [33.50973 ],\n",
       "       [26.741306],\n",
       "       [41.178593],\n",
       "       [41.500637],\n",
       "       [46.31144 ],\n",
       "       [42.870083],\n",
       "       [37.31867 ],\n",
       "       [45.358753],\n",
       "       [37.287643],\n",
       "       [42.1456  ],\n",
       "       [40.838547],\n",
       "       [43.253296],\n",
       "       [42.96887 ],\n",
       "       [36.538616],\n",
       "       [39.42256 ],\n",
       "       [36.793705],\n",
       "       [37.642967],\n",
       "       [27.720133],\n",
       "       [41.348484],\n",
       "       [33.506245],\n",
       "       [33.76767 ],\n",
       "       [26.432438],\n",
       "       [29.005167],\n",
       "       [45.905933],\n",
       "       [41.087627],\n",
       "       [39.618988],\n",
       "       [48.46517 ],\n",
       "       [38.095814],\n",
       "       [35.147266],\n",
       "       [49.1405  ],\n",
       "       [41.441486],\n",
       "       [35.789055],\n",
       "       [42.31564 ],\n",
       "       [41.72069 ],\n",
       "       [41.141018],\n",
       "       [41.93048 ],\n",
       "       [36.843002],\n",
       "       [28.869272],\n",
       "       [42.916836],\n",
       "       [38.94342 ],\n",
       "       [29.22287 ],\n",
       "       [41.821472],\n",
       "       [45.314514],\n",
       "       [39.81506 ],\n",
       "       [40.15533 ],\n",
       "       [41.368458],\n",
       "       [40.201927],\n",
       "       [31.238832],\n",
       "       [39.238155],\n",
       "       [40.050724],\n",
       "       [28.372015],\n",
       "       [25.246578],\n",
       "       [45.973373],\n",
       "       [40.803715],\n",
       "       [27.598476],\n",
       "       [42.52644 ],\n",
       "       [45.271534],\n",
       "       [41.64953 ],\n",
       "       [44.95025 ],\n",
       "       [34.499935],\n",
       "       [44.91853 ],\n",
       "       [22.532429],\n",
       "       [21.60887 ],\n",
       "       [42.84522 ],\n",
       "       [35.72031 ],\n",
       "       [33.309902],\n",
       "       [38.422558],\n",
       "       [22.121422],\n",
       "       [26.848366],\n",
       "       [36.713295],\n",
       "       [46.460472],\n",
       "       [34.197475],\n",
       "       [44.138214],\n",
       "       [31.899988],\n",
       "       [41.134903],\n",
       "       [40.061073],\n",
       "       [39.66321 ],\n",
       "       [36.477707],\n",
       "       [37.050583],\n",
       "       [50.961884],\n",
       "       [42.02426 ],\n",
       "       [42.433563],\n",
       "       [42.174915],\n",
       "       [27.312643],\n",
       "       [39.066208],\n",
       "       [36.960278],\n",
       "       [42.888447],\n",
       "       [23.279598],\n",
       "       [54.246033],\n",
       "       [44.18894 ],\n",
       "       [40.43172 ],\n",
       "       [52.289417],\n",
       "       [44.58073 ],\n",
       "       [34.324955],\n",
       "       [40.064266],\n",
       "       [45.55103 ],\n",
       "       [41.2577  ],\n",
       "       [46.631657],\n",
       "       [38.23972 ],\n",
       "       [46.454525],\n",
       "       [36.821613],\n",
       "       [37.174816],\n",
       "       [41.45363 ],\n",
       "       [37.163914],\n",
       "       [40.176495],\n",
       "       [52.569233],\n",
       "       [40.048153],\n",
       "       [40.384712],\n",
       "       [20.861982],\n",
       "       [44.491776],\n",
       "       [38.16148 ],\n",
       "       [40.696976],\n",
       "       [28.76137 ],\n",
       "       [41.86459 ],\n",
       "       [44.27524 ],\n",
       "       [42.172344],\n",
       "       [32.3459  ],\n",
       "       [30.849676],\n",
       "       [46.12903 ],\n",
       "       [30.975462],\n",
       "       [40.731506],\n",
       "       [44.74325 ],\n",
       "       [44.915718],\n",
       "       [40.02031 ],\n",
       "       [44.89883 ],\n",
       "       [37.38893 ],\n",
       "       [44.838192],\n",
       "       [41.60167 ],\n",
       "       [41.14135 ],\n",
       "       [37.717606],\n",
       "       [32.495914],\n",
       "       [39.711803],\n",
       "       [47.98457 ],\n",
       "       [53.296185],\n",
       "       [44.30693 ]], dtype=float32)"
      ]
     },
     "execution_count": 172,
     "metadata": {},
     "output_type": "execute_result"
    }
   ],
   "source": [
    "y = model.predict(Xtest)\n",
    "y"
   ]
  },
  {
   "cell_type": "code",
   "execution_count": 173,
   "metadata": {},
   "outputs": [
    {
     "data": {
      "text/plain": [
       "(554, 1)"
      ]
     },
     "execution_count": 173,
     "metadata": {},
     "output_type": "execute_result"
    }
   ],
   "source": [
    "y.shape"
   ]
  },
  {
   "cell_type": "code",
   "execution_count": 174,
   "metadata": {},
   "outputs": [
    {
     "data": {
      "text/plain": [
       "<matplotlib.legend.Legend at 0x271c8151648>"
      ]
     },
     "execution_count": 174,
     "metadata": {},
     "output_type": "execute_result"
    },
    {
     "data": {
      "image/png": "[encoded data removed]",
      "text/plain": [
       "<Figure size 432x288 with 1 Axes>"
      ]
     },
     "metadata": {
      "needs_background": "light"
     },
     "output_type": "display_data"
    }
   ],
   "source": [
    "plt.plot(Ttest, label = 'Target')\n",
    "plt.plot(y, label = 'Predictions')\n",
    "plt.legend()"
   ]
  },
  {
   "cell_type": "code",
   "execution_count": null,
   "metadata": {},
   "outputs": [],
   "source": []
  }
 ],
 "metadata": {
  "kernelspec": {
   "display_name": "Python 3",
   "language": "python",
   "name": "python3"
  },
  "language_info": {
   "codemirror_mode": {
    "name": "ipython",
    "version": 3
   },
   "file_extension": ".py",
   "mimetype": "text/x-python",
   "name": "python",
   "nbconvert_exporter": "python",
   "pygments_lexer": "ipython3",
   "version": "3.7.4"
  }
 },
 "nbformat": 4,
 "nbformat_minor": 2
}
