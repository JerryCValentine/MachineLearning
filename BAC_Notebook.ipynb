{
 "cells": [
  {
   "cell_type": "markdown",
   "metadata": {},
   "source": [
    "# Final Project \n",
    "## Stock Market Predication Project\n",
    "\n",
    "### Shiv Kalaria"
   ]
  },
  {
   "cell_type": "code",
   "execution_count": 1,
   "metadata": {},
   "outputs": [],
   "source": [
    "from copy import deepcopy as copy\n",
    "from IPython.core.debugger import set_trace\n",
    "\n",
    "import numpy as np\n",
    "import pandas as pd\n",
    "import matplotlib.pyplot as plt \n",
    "from mpl_toolkits.mplot3d import Axes3D\n",
    "%matplotlib inline\n"
   ]
  },
  {
   "cell_type": "code",
   "execution_count": 2,
   "metadata": {},
   "outputs": [
    {
     "data": {
      "text/html": [
       "<div>\n",
       "<style scoped>\n",
       "    .dataframe tbody tr th:only-of-type {\n",
       "        vertical-align: middle;\n",
       "    }\n",
       "\n",
       "    .dataframe tbody tr th {\n",
       "        vertical-align: top;\n",
       "    }\n",
       "\n",
       "    .dataframe thead th {\n",
       "        text-align: right;\n",
       "    }\n",
       "</style>\n",
       "<table border=\"1\" class=\"dataframe\">\n",
       "  <thead>\n",
       "    <tr style=\"text-align: right;\">\n",
       "      <th></th>\n",
       "      <th>Date</th>\n",
       "      <th>Open</th>\n",
       "      <th>High</th>\n",
       "      <th>Low</th>\n",
       "      <th>Close</th>\n",
       "      <th>Adj Close</th>\n",
       "      <th>Volume</th>\n",
       "    </tr>\n",
       "  </thead>\n",
       "  <tbody>\n",
       "    <tr>\n",
       "      <td>0</td>\n",
       "      <td>2009-01-02</td>\n",
       "      <td>13.920000</td>\n",
       "      <td>14.570000</td>\n",
       "      <td>13.710000</td>\n",
       "      <td>14.330000</td>\n",
       "      <td>12.733791</td>\n",
       "      <td>86580700</td>\n",
       "    </tr>\n",
       "    <tr>\n",
       "      <td>1</td>\n",
       "      <td>2009-01-05</td>\n",
       "      <td>14.380000</td>\n",
       "      <td>14.550000</td>\n",
       "      <td>13.890000</td>\n",
       "      <td>13.980000</td>\n",
       "      <td>12.422776</td>\n",
       "      <td>93640500</td>\n",
       "    </tr>\n",
       "    <tr>\n",
       "      <td>2</td>\n",
       "      <td>2009-01-06</td>\n",
       "      <td>14.270000</td>\n",
       "      <td>14.810000</td>\n",
       "      <td>14.070000</td>\n",
       "      <td>14.280000</td>\n",
       "      <td>12.689362</td>\n",
       "      <td>111015400</td>\n",
       "    </tr>\n",
       "    <tr>\n",
       "      <td>3</td>\n",
       "      <td>2009-01-07</td>\n",
       "      <td>14.110000</td>\n",
       "      <td>14.130000</td>\n",
       "      <td>13.610000</td>\n",
       "      <td>13.710000</td>\n",
       "      <td>12.182853</td>\n",
       "      <td>112810000</td>\n",
       "    </tr>\n",
       "    <tr>\n",
       "      <td>4</td>\n",
       "      <td>2009-01-08</td>\n",
       "      <td>13.820000</td>\n",
       "      <td>13.990000</td>\n",
       "      <td>13.350000</td>\n",
       "      <td>13.540000</td>\n",
       "      <td>12.031786</td>\n",
       "      <td>93943500</td>\n",
       "    </tr>\n",
       "    <tr>\n",
       "      <td>...</td>\n",
       "      <td>...</td>\n",
       "      <td>...</td>\n",
       "      <td>...</td>\n",
       "      <td>...</td>\n",
       "      <td>...</td>\n",
       "      <td>...</td>\n",
       "      <td>...</td>\n",
       "    </tr>\n",
       "    <tr>\n",
       "      <td>2763</td>\n",
       "      <td>2019-12-24</td>\n",
       "      <td>35.189999</td>\n",
       "      <td>35.279999</td>\n",
       "      <td>35.119999</td>\n",
       "      <td>35.220001</td>\n",
       "      <td>34.996696</td>\n",
       "      <td>13805400</td>\n",
       "    </tr>\n",
       "    <tr>\n",
       "      <td>2764</td>\n",
       "      <td>2019-12-26</td>\n",
       "      <td>35.320000</td>\n",
       "      <td>35.560001</td>\n",
       "      <td>35.290001</td>\n",
       "      <td>35.520000</td>\n",
       "      <td>35.294796</td>\n",
       "      <td>26992100</td>\n",
       "    </tr>\n",
       "    <tr>\n",
       "      <td>2765</td>\n",
       "      <td>2019-12-27</td>\n",
       "      <td>35.700001</td>\n",
       "      <td>35.720001</td>\n",
       "      <td>35.259998</td>\n",
       "      <td>35.349998</td>\n",
       "      <td>35.125870</td>\n",
       "      <td>28111300</td>\n",
       "    </tr>\n",
       "    <tr>\n",
       "      <td>2766</td>\n",
       "      <td>2019-12-30</td>\n",
       "      <td>35.570000</td>\n",
       "      <td>35.650002</td>\n",
       "      <td>35.090000</td>\n",
       "      <td>35.150002</td>\n",
       "      <td>34.927143</td>\n",
       "      <td>30705100</td>\n",
       "    </tr>\n",
       "    <tr>\n",
       "      <td>2767</td>\n",
       "      <td>2019-12-31</td>\n",
       "      <td>35.029999</td>\n",
       "      <td>35.259998</td>\n",
       "      <td>34.970001</td>\n",
       "      <td>35.220001</td>\n",
       "      <td>34.996696</td>\n",
       "      <td>29630100</td>\n",
       "    </tr>\n",
       "  </tbody>\n",
       "</table>\n",
       "<p>2768 rows × 7 columns</p>\n",
       "</div>"
      ],
      "text/plain": [
       "            Date       Open       High        Low      Close  Adj Close  \\\n",
       "0     2009-01-02  13.920000  14.570000  13.710000  14.330000  12.733791   \n",
       "1     2009-01-05  14.380000  14.550000  13.890000  13.980000  12.422776   \n",
       "2     2009-01-06  14.270000  14.810000  14.070000  14.280000  12.689362   \n",
       "3     2009-01-07  14.110000  14.130000  13.610000  13.710000  12.182853   \n",
       "4     2009-01-08  13.820000  13.990000  13.350000  13.540000  12.031786   \n",
       "...          ...        ...        ...        ...        ...        ...   \n",
       "2763  2019-12-24  35.189999  35.279999  35.119999  35.220001  34.996696   \n",
       "2764  2019-12-26  35.320000  35.560001  35.290001  35.520000  35.294796   \n",
       "2765  2019-12-27  35.700001  35.720001  35.259998  35.349998  35.125870   \n",
       "2766  2019-12-30  35.570000  35.650002  35.090000  35.150002  34.927143   \n",
       "2767  2019-12-31  35.029999  35.259998  34.970001  35.220001  34.996696   \n",
       "\n",
       "         Volume  \n",
       "0      86580700  \n",
       "1      93640500  \n",
       "2     111015400  \n",
       "3     112810000  \n",
       "4      93943500  \n",
       "...         ...  \n",
       "2763   13805400  \n",
       "2764   26992100  \n",
       "2765   28111300  \n",
       "2766   30705100  \n",
       "2767   29630100  \n",
       "\n",
       "[2768 rows x 7 columns]"
      ]
     },
     "execution_count": 2,
     "metadata": {},
     "output_type": "execute_result"
    }
   ],
   "source": [
    "bofa_df = pd.read_csv('BAC.csv')\n",
    "bofa_df"
   ]
  },
  {
   "cell_type": "code",
   "execution_count": 6,
   "metadata": {},
   "outputs": [
    {
     "data": {
      "text/html": [
       "<div>\n",
       "<style scoped>\n",
       "    .dataframe tbody tr th:only-of-type {\n",
       "        vertical-align: middle;\n",
       "    }\n",
       "\n",
       "    .dataframe tbody tr th {\n",
       "        vertical-align: top;\n",
       "    }\n",
       "\n",
       "    .dataframe thead th {\n",
       "        text-align: right;\n",
       "    }\n",
       "</style>\n",
       "<table border=\"1\" class=\"dataframe\">\n",
       "  <thead>\n",
       "    <tr style=\"text-align: right;\">\n",
       "      <th></th>\n",
       "      <th>Open</th>\n",
       "    </tr>\n",
       "  </thead>\n",
       "  <tbody>\n",
       "    <tr>\n",
       "      <td>0</td>\n",
       "      <td>13.920000</td>\n",
       "    </tr>\n",
       "    <tr>\n",
       "      <td>1</td>\n",
       "      <td>14.380000</td>\n",
       "    </tr>\n",
       "    <tr>\n",
       "      <td>2</td>\n",
       "      <td>14.270000</td>\n",
       "    </tr>\n",
       "    <tr>\n",
       "      <td>3</td>\n",
       "      <td>14.110000</td>\n",
       "    </tr>\n",
       "    <tr>\n",
       "      <td>4</td>\n",
       "      <td>13.820000</td>\n",
       "    </tr>\n",
       "    <tr>\n",
       "      <td>...</td>\n",
       "      <td>...</td>\n",
       "    </tr>\n",
       "    <tr>\n",
       "      <td>2763</td>\n",
       "      <td>35.189999</td>\n",
       "    </tr>\n",
       "    <tr>\n",
       "      <td>2764</td>\n",
       "      <td>35.320000</td>\n",
       "    </tr>\n",
       "    <tr>\n",
       "      <td>2765</td>\n",
       "      <td>35.700001</td>\n",
       "    </tr>\n",
       "    <tr>\n",
       "      <td>2766</td>\n",
       "      <td>35.570000</td>\n",
       "    </tr>\n",
       "    <tr>\n",
       "      <td>2767</td>\n",
       "      <td>35.029999</td>\n",
       "    </tr>\n",
       "  </tbody>\n",
       "</table>\n",
       "<p>2768 rows × 1 columns</p>\n",
       "</div>"
      ],
      "text/plain": [
       "           Open\n",
       "0     13.920000\n",
       "1     14.380000\n",
       "2     14.270000\n",
       "3     14.110000\n",
       "4     13.820000\n",
       "...         ...\n",
       "2763  35.189999\n",
       "2764  35.320000\n",
       "2765  35.700001\n",
       "2766  35.570000\n",
       "2767  35.029999\n",
       "\n",
       "[2768 rows x 1 columns]"
      ]
     },
     "execution_count": 6,
     "metadata": {},
     "output_type": "execute_result"
    }
   ],
   "source": [
    "stock_open = bofa_df[['Open']].copy()\n",
    "stock_open"
   ]
  },
  {
   "cell_type": "code",
   "execution_count": 7,
   "metadata": {},
   "outputs": [
    {
     "data": {
      "text/html": [
       "<div>\n",
       "<style scoped>\n",
       "    .dataframe tbody tr th:only-of-type {\n",
       "        vertical-align: middle;\n",
       "    }\n",
       "\n",
       "    .dataframe tbody tr th {\n",
       "        vertical-align: top;\n",
       "    }\n",
       "\n",
       "    .dataframe thead th {\n",
       "        text-align: right;\n",
       "    }\n",
       "</style>\n",
       "<table border=\"1\" class=\"dataframe\">\n",
       "  <thead>\n",
       "    <tr style=\"text-align: right;\">\n",
       "      <th></th>\n",
       "      <th>Close</th>\n",
       "    </tr>\n",
       "  </thead>\n",
       "  <tbody>\n",
       "    <tr>\n",
       "      <td>0</td>\n",
       "      <td>14.330000</td>\n",
       "    </tr>\n",
       "    <tr>\n",
       "      <td>1</td>\n",
       "      <td>13.980000</td>\n",
       "    </tr>\n",
       "    <tr>\n",
       "      <td>2</td>\n",
       "      <td>14.280000</td>\n",
       "    </tr>\n",
       "    <tr>\n",
       "      <td>3</td>\n",
       "      <td>13.710000</td>\n",
       "    </tr>\n",
       "    <tr>\n",
       "      <td>4</td>\n",
       "      <td>13.540000</td>\n",
       "    </tr>\n",
       "    <tr>\n",
       "      <td>...</td>\n",
       "      <td>...</td>\n",
       "    </tr>\n",
       "    <tr>\n",
       "      <td>2763</td>\n",
       "      <td>35.220001</td>\n",
       "    </tr>\n",
       "    <tr>\n",
       "      <td>2764</td>\n",
       "      <td>35.520000</td>\n",
       "    </tr>\n",
       "    <tr>\n",
       "      <td>2765</td>\n",
       "      <td>35.349998</td>\n",
       "    </tr>\n",
       "    <tr>\n",
       "      <td>2766</td>\n",
       "      <td>35.150002</td>\n",
       "    </tr>\n",
       "    <tr>\n",
       "      <td>2767</td>\n",
       "      <td>35.220001</td>\n",
       "    </tr>\n",
       "  </tbody>\n",
       "</table>\n",
       "<p>2768 rows × 1 columns</p>\n",
       "</div>"
      ],
      "text/plain": [
       "          Close\n",
       "0     14.330000\n",
       "1     13.980000\n",
       "2     14.280000\n",
       "3     13.710000\n",
       "4     13.540000\n",
       "...         ...\n",
       "2763  35.220001\n",
       "2764  35.520000\n",
       "2765  35.349998\n",
       "2766  35.150002\n",
       "2767  35.220001\n",
       "\n",
       "[2768 rows x 1 columns]"
      ]
     },
     "execution_count": 7,
     "metadata": {},
     "output_type": "execute_result"
    }
   ],
   "source": [
    "stock_close = bofa_df[['Close']].copy()\n",
    "stock_close"
   ]
  },
  {
   "cell_type": "code",
   "execution_count": 26,
   "metadata": {},
   "outputs": [
    {
     "data": {
      "image/png": "[encoded data removed]",
      "text/plain": [
       "<Figure size 432x288 with 1 Axes>"
      ]
     },
     "metadata": {
      "needs_background": "light"
     },
     "output_type": "display_data"
    },
    {
     "data": {
      "image/png": "[encoded data removed]",
      "text/plain": [
       "<Figure size 432x288 with 1 Axes>"
      ]
     },
     "metadata": {
      "needs_background": "light"
     },
     "output_type": "display_data"
    }
   ],
   "source": [
    "stk_open_plt = stock_open.plot()\n",
    "stk_close_plt = stock_close.plot(color='orange')"
   ]
  },
  {
   "cell_type": "code",
   "execution_count": 25,
   "metadata": {},
   "outputs": [
    {
     "data": {
      "text/plain": [
       "[<matplotlib.lines.Line2D at 0x24444c0e8c8>]"
      ]
     },
     "execution_count": 25,
     "metadata": {},
     "output_type": "execute_result"
    },
    {
     "data": {
      "image/png": "[encoded data removed]",
      "text/plain": [
       "<Figure size 432x288 with 1 Axes>"
      ]
     },
     "metadata": {
      "needs_background": "light"
     },
     "output_type": "display_data"
    }
   ],
   "source": [
    "plt.plot(stock_open)\n",
    "plt.plot(stock_close)"
   ]
  },
  {
   "cell_type": "code",
   "execution_count": 38,
   "metadata": {},
   "outputs": [
    {
     "ename": "NameError",
     "evalue": "name 'emumerate' is not defined",
     "output_type": "error",
     "traceback": [
      "\u001b[1;31m---------------------------------------------------------------------------\u001b[0m",
      "\u001b[1;31mNameError\u001b[0m                                 Traceback (most recent call last)",
      "\u001b[1;32m<ipython-input-38-f82e76264cb2>\u001b[0m in \u001b[0;36m<module>\u001b[1;34m\u001b[0m\n\u001b[1;32m----> 1\u001b[1;33m \u001b[1;32mfor\u001b[0m \u001b[0mi\u001b[0m\u001b[1;33m,\u001b[0m\u001b[0mc\u001b[0m \u001b[1;32min\u001b[0m \u001b[0memumerate\u001b[0m\u001b[1;33m(\u001b[0m\u001b[0mstock_open\u001b[0m\u001b[1;33m.\u001b[0m\u001b[0mcolumns\u001b[0m\u001b[1;33m.\u001b[0m\u001b[0mvalues\u001b[0m\u001b[1;33m)\u001b[0m\u001b[1;33m:\u001b[0m\u001b[1;33m\u001b[0m\u001b[1;33m\u001b[0m\u001b[0m\n\u001b[0m\u001b[0;32m      2\u001b[0m     \u001b[0mstock_open\u001b[0m\u001b[1;33m.\u001b[0m\u001b[0mplot\u001b[0m\u001b[1;33m.\u001b[0m\u001b[0mscatter\u001b[0m\u001b[1;33m(\u001b[0m\u001b[0mc\u001b[0m\u001b[1;33m,\u001b[0m\u001b[1;34m'Open'\u001b[0m\u001b[1;33m)\u001b[0m\u001b[1;33m\u001b[0m\u001b[1;33m\u001b[0m\u001b[0m\n\u001b[0;32m      3\u001b[0m \u001b[1;31m# plt.hist(bofa_df.loc[:,'Close'])\u001b[0m\u001b[1;33m\u001b[0m\u001b[1;33m\u001b[0m\u001b[1;33m\u001b[0m\u001b[0m\n",
      "\u001b[1;31mNameError\u001b[0m: name 'emumerate' is not defined"
     ]
    }
   ],
   "source": [
    "for i,c in emumerate(stock_open.columns.values):\n",
    "    stock_open.plot.scatter(c,'Open')\n",
    "# plt.hist(bofa_df.loc[:,'Close'])"
   ]
  }
 ],
 "metadata": {
  "kernelspec": {
   "display_name": "Python 3",
   "language": "python",
   "name": "python3"
  },
  "language_info": {
   "codemirror_mode": {
    "name": "ipython",
    "version": 3
   },
   "file_extension": ".py",
   "mimetype": "text/x-python",
   "name": "python",
   "nbconvert_exporter": "python",
   "pygments_lexer": "ipython3",
   "version": "3.7.4"
  }
 },
 "nbformat": 4,
 "nbformat_minor": 2
}
